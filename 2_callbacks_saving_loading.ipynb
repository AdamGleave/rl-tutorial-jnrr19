{
  "nbformat": 4,
  "nbformat_minor": 0,
  "metadata": {
    "kernelspec": {
      "display_name": "Python 3",
      "language": "python",
      "name": "python3"
    },
    "language_info": {
      "codemirror_mode": {
        "name": "ipython",
        "version": 3
      },
      "file_extension": ".py",
      "mimetype": "text/x-python",
      "name": "python",
      "nbconvert_exporter": "python",
      "pygments_lexer": "ipython3",
      "version": "3.6.9"
    },
    "colab": {
      "name": "2_callbacks_saving_loading.ipynb",
      "provenance": [],
      "collapsed_sections": [],
      "include_colab_link": true
    }
  },
  "cells": [
    {
      "cell_type": "markdown",
      "metadata": {
        "id": "view-in-github",
        "colab_type": "text"
      },
      "source": [
        "<a href=\"https://colab.research.google.com/github/araffin/rl-tutorial-jnrr19/blob/master/2_callbacks_saving_loading.ipynb\" target=\"_parent\"><img src=\"https://colab.research.google.com/assets/colab-badge.svg\" alt=\"Open In Colab\"/></a>"
      ]
    },
    {
      "cell_type": "markdown",
      "metadata": {
        "id": "3ezJ3Y7XRUnj",
        "colab_type": "text"
      },
      "source": [
        "# Callbacks, saving models, and loading models with Stable Baselines\n",
        "\n",
        "## Introduction\n",
        "\n",
        "In this notebook, you will learn how to use *Callbacks* which allow to do monitoring, auto saving, model manipulation, progress bars, ...\n",
        "\n",
        "You will also see the *loading* and *saving* functions, and how to read the outputed files for possible exporting.\n",
        "\n",
        "## Install Dependencies and Stable Baselines Using Pip"
      ]
    },
    {
      "cell_type": "code",
      "metadata": {
        "id": "YFdlFByORUnl",
        "colab_type": "code",
        "colab": {}
      },
      "source": [
        "!apt install swig\n",
        "!pip install tqdm==4.36.1\n",
        "!pip install stable-baselines[mpi]==2.8.0"
      ],
      "execution_count": 0,
      "outputs": []
    },
    {
      "cell_type": "code",
      "metadata": {
        "id": "grXe85G9RUnp",
        "colab_type": "code",
        "colab": {}
      },
      "source": [
        "import gym\n",
        "from stable_baselines import A2C, SAC, PPO2, TD3"
      ],
      "execution_count": 0,
      "outputs": []
    },
    {
      "cell_type": "markdown",
      "metadata": {
        "id": "mQRZlnhFRUns",
        "colab_type": "text"
      },
      "source": [
        "## Helper functions\n",
        "This is to help the callbacks store variables (as they are function), but this could be also done by passing a class method."
      ]
    },
    {
      "cell_type": "code",
      "metadata": {
        "id": "gdPSiMFzRUnt",
        "colab_type": "code",
        "colab": {}
      },
      "source": [
        "def get_callback_vars(model, **kwargs): \n",
        "    \"\"\"\n",
        "    Helps store variables for the callback functions\n",
        "    :param model: (BaseRLModel)\n",
        "    :param **kwargs: initial values of the callback variables\n",
        "    \"\"\"\n",
        "    # save the called attribute in the model\n",
        "    if not hasattr(model, \"_callback_vars\"): \n",
        "        model._callback_vars = dict(**kwargs)\n",
        "    else: # check all the kwargs are in the callback variables\n",
        "        for (name, val) in kwargs.items():\n",
        "            if name not in model._callback_vars:\n",
        "                model._callback_vars[name] = val\n",
        "    return model._callback_vars # return dict reference (mutable)"
      ],
      "execution_count": 0,
      "outputs": []
    },
    {
      "cell_type": "markdown",
      "metadata": {
        "id": "irHk8FXdRUnw",
        "colab_type": "text"
      },
      "source": [
        "# Callbacks\n",
        "\n",
        "## A functional approach\n",
        "A callback function takes the `locals()` variables and the `globals()` variables from the model, then returns a boolean value for whether or not the training should continue.\n",
        "\n",
        "Thanks to the access to the models variables, in particular `_locals[\"self\"]`, we are able to even change the parameters of the model without halting the training, or changing the model's code.\n",
        "\n",
        "Here we have a simple callback that can only be called twice:"
      ]
    },
    {
      "cell_type": "code",
      "metadata": {
        "id": "5gTXaNLARUnw",
        "colab_type": "code",
        "outputId": "7683e8f6-079c-41b7-8a4c-1f89723b9223",
        "colab": {}
      },
      "source": [
        "def simple_callback(_locals, _globals):\n",
        "    \"\"\"\n",
        "    Callback called at each step (for DQN an others) or after n steps (see ACER or PPO2)\n",
        "    :param _locals: (dict)\n",
        "    :param _globals: (dict)\n",
        "    \"\"\" \n",
        "    # get callback variables, with default values if unintialized\n",
        "    callback_vars = get_callback_vars(_locals[\"self\"], called=False) \n",
        "    \n",
        "    if not callback_vars[\"called\"]:\n",
        "        print(\"callback - first call\")\n",
        "        callback_vars[\"called\"] = True\n",
        "        return True # returns True, training continues.\n",
        "    else:\n",
        "        print(\"callback - second call\")\n",
        "        return False # returns False, training stops.\n",
        "\n",
        "model = SAC('MlpPolicy', 'Pendulum-v0', verbose=1)\n",
        "model.learn(8000, callback=simple_callback)"
      ],
      "execution_count": 0,
      "outputs": [
        {
          "output_type": "stream",
          "text": [
            "Creating environment from the given name, wrapped in a DummyVecEnv.\n"
          ],
          "name": "stdout"
        },
        {
          "output_type": "stream",
          "text": [
            "/home/ah257962/anaconda3/lib/python3.6/site-packages/gym/envs/registration.py:14: PkgResourcesDeprecationWarning: Parameters to load are deprecated.  Call .resolve and .require separately.\n",
            "  result = entry_point.load(False)\n"
          ],
          "name": "stderr"
        },
        {
          "output_type": "stream",
          "text": [
            "callback - first call\n",
            "callback - second call\n"
          ],
          "name": "stdout"
        },
        {
          "output_type": "execute_result",
          "data": {
            "text/plain": [
              "<stable_baselines.sac.sac.SAC at 0x7fef701424e0>"
            ]
          },
          "metadata": {
            "tags": []
          },
          "execution_count": 4
        }
      ]
    },
    {
      "cell_type": "markdown",
      "metadata": {
        "id": "adsKMvDkRUn0",
        "colab_type": "text"
      },
      "source": [
        "## First example: Auto saving best model\n",
        "In RL, it is quite useful to keep a clean version of a model as you are training, as we can end up with burn-in of a bad policy. This is a typical use case for callback, as they can call the save function of the model, and observe the training over time.\n",
        "\n",
        "Using the monitoring wrapper, we can save statistics of the environment, and use them to determine the mean training reward.\n",
        "This allows us to save the best model while training.\n",
        "\n",
        "Note that this is not the proper way of evaluating an RL agent, you should create an test environment and evaluate the agent performance in the callback. For simplicity, we will be using the training reward as a proxy."
      ]
    },
    {
      "cell_type": "code",
      "metadata": {
        "id": "1TuYLBEaRUn0",
        "colab_type": "code",
        "colab": {}
      },
      "source": [
        "import os\n",
        "\n",
        "import numpy as np\n",
        "\n",
        "from stable_baselines.bench import Monitor\n",
        "from stable_baselines.common.vec_env import DummyVecEnv\n",
        "from stable_baselines.results_plotter import load_results, ts2xy\n",
        "\n",
        "def auto_save_callback(_locals, _globals):\n",
        "    \"\"\"\n",
        "    Callback called at each step (for DQN an others) or after n steps (see ACER or PPO2)\n",
        "    :param _locals: (dict)\n",
        "    :param _globals: (dict)\n",
        "    \"\"\"\n",
        "    # get callback variables, with default values if unintialized\n",
        "    callback_vars = get_callback_vars(_locals[\"self\"], n_steps=0, best_mean_reward=-np.inf) \n",
        "\n",
        "    # skip every 500 steps\n",
        "    if callback_vars[\"n_steps\"] % 20 == 0:\n",
        "        # Evaluate policy training performance\n",
        "        x, y = ts2xy(load_results(log_dir), 'timesteps')\n",
        "        if len(x) > 0:\n",
        "            mean_reward = np.mean(y[-100:])\n",
        "\n",
        "            # New best model, you could save the agent here\n",
        "            if mean_reward > callback_vars[\"best_mean_reward\"]:\n",
        "                callback_vars[\"best_mean_reward\"] = mean_reward\n",
        "                # Example for saving best model\n",
        "                print(\"Saving new best model at {} timesteps\".format(x[-1]))\n",
        "                _locals['self'].save(log_dir + 'best_model')\n",
        "    callback_vars[\"n_steps\"] += 1\n",
        "    return True\n",
        "\n",
        "# Create log dir\n",
        "log_dir = \"/tmp/gym/\"\n",
        "os.makedirs(log_dir, exist_ok=True)\n",
        "\n",
        "# Create and wrap the environment\n",
        "env = gym.make('CartPole-v1')\n",
        "env = Monitor(env, log_dir, allow_early_resets=True)\n",
        "env = DummyVecEnv([lambda: env])\n",
        "\n",
        "model = A2C('MlpPolicy', env, verbose=0)\n",
        "model.learn(total_timesteps=10000, callback=auto_save_callback)"
      ],
      "execution_count": 0,
      "outputs": []
    },
    {
      "cell_type": "markdown",
      "metadata": {
        "id": "Mx18FkEORUn3",
        "colab_type": "text"
      },
      "source": [
        "## Second example: Realtime plotting of performance\n",
        "While training, it is sometimes useful to how the training progresses over time, relative to the episodic reward.\n",
        "For this, Stable-Baselines has [Tensorboard support](https://stable-baselines.readthedocs.io/en/master/guide/tensorboard.html), however this can be very combersome, especially in disk space usage. \n",
        "\n",
        "Here, we can use callback again, to plot the episodic reward in realtime, using the monitoring wrapper:"
      ]
    },
    {
      "cell_type": "code",
      "metadata": {
        "id": "c0Bu1HWKRUn4",
        "colab_type": "code",
        "outputId": "785046b1-c7a5-43aa-fa72-268db1a9ae9e",
        "colab": {}
      },
      "source": [
        "import matplotlib.pyplot as plt\n",
        "import numpy as np\n",
        "%matplotlib notebook\n",
        "\n",
        "def plotting_callback(_locals, _globals):\n",
        "    \"\"\"\n",
        "    Callback called at each step (for DQN an others) or after n steps (see ACER or PPO2)\n",
        "    :param _locals: (dict)\n",
        "    :param _globals: (dict)\n",
        "    \"\"\"\n",
        "    # get callback variables, with default values if unintialized\n",
        "    callback_vars = get_callback_vars(_locals[\"self\"], plot=None) \n",
        "    \n",
        "    x, y = ts2xy(load_results(log_dir), 'timesteps')\n",
        "    if callback_vars[\"plot\"] is None:\n",
        "        plt.ion()\n",
        "        fig = plt.figure(figsize=(6,3))\n",
        "        ax = fig.add_subplot(111)\n",
        "        line, = ax.plot(x, y)\n",
        "        callback_vars[\"plot\"] = (line, ax, fig)\n",
        "        plt.show()\n",
        "    else:\n",
        "        callback_vars[\"plot\"][0].set_data(x, y)\n",
        "        callback_vars[\"plot\"][-2].relim()\n",
        "        callback_vars[\"plot\"][-2].set_xlim([_locals[\"total_timesteps\"] * -0.02, \n",
        "                                            _locals[\"total_timesteps\"] * 1.02])\n",
        "        callback_vars[\"plot\"][-2].autoscale_view(True,True,True)\n",
        "        callback_vars[\"plot\"][-1].canvas.draw()\n",
        "        \n",
        "# Create log dir\n",
        "log_dir = \"/tmp/gym/\"\n",
        "os.makedirs(log_dir, exist_ok=True)\n",
        "\n",
        "# Create and wrap the environment\n",
        "env = gym.make('MountainCarContinuous-v0')\n",
        "env = Monitor(env, log_dir, allow_early_resets=True)\n",
        "env = DummyVecEnv([lambda: env])\n",
        "        \n",
        "model = PPO2('MlpPolicy', env, verbose=0)\n",
        "model.learn(20000, callback=plotting_callback)"
      ],
      "execution_count": 0,
      "outputs": [
        {
          "output_type": "stream",
          "text": [
            "\u001b[33mWARN: gym.spaces.Box autodetected dtype as <class 'numpy.float32'>. Please provide explicit dtype.\u001b[0m\n",
            "\u001b[33mWARN: gym.spaces.Box autodetected dtype as <class 'numpy.float32'>. Please provide explicit dtype.\u001b[0m\n"
          ],
          "name": "stdout"
        },
        {
          "output_type": "display_data",
          "data": {
            "application/javascript": [
              "/* Put everything inside the global mpl namespace */\n",
              "window.mpl = {};\n",
              "\n",
              "\n",
              "mpl.get_websocket_type = function() {\n",
              "    if (typeof(WebSocket) !== 'undefined') {\n",
              "        return WebSocket;\n",
              "    } else if (typeof(MozWebSocket) !== 'undefined') {\n",
              "        return MozWebSocket;\n",
              "    } else {\n",
              "        alert('Your browser does not have WebSocket support.' +\n",
              "              'Please try Chrome, Safari or Firefox ≥ 6. ' +\n",
              "              'Firefox 4 and 5 are also supported but you ' +\n",
              "              'have to enable WebSockets in about:config.');\n",
              "    };\n",
              "}\n",
              "\n",
              "mpl.figure = function(figure_id, websocket, ondownload, parent_element) {\n",
              "    this.id = figure_id;\n",
              "\n",
              "    this.ws = websocket;\n",
              "\n",
              "    this.supports_binary = (this.ws.binaryType != undefined);\n",
              "\n",
              "    if (!this.supports_binary) {\n",
              "        var warnings = document.getElementById(\"mpl-warnings\");\n",
              "        if (warnings) {\n",
              "            warnings.style.display = 'block';\n",
              "            warnings.textContent = (\n",
              "                \"This browser does not support binary websocket messages. \" +\n",
              "                    \"Performance may be slow.\");\n",
              "        }\n",
              "    }\n",
              "\n",
              "    this.imageObj = new Image();\n",
              "\n",
              "    this.context = undefined;\n",
              "    this.message = undefined;\n",
              "    this.canvas = undefined;\n",
              "    this.rubberband_canvas = undefined;\n",
              "    this.rubberband_context = undefined;\n",
              "    this.format_dropdown = undefined;\n",
              "\n",
              "    this.image_mode = 'full';\n",
              "\n",
              "    this.root = $('<div/>');\n",
              "    this._root_extra_style(this.root)\n",
              "    this.root.attr('style', 'display: inline-block');\n",
              "\n",
              "    $(parent_element).append(this.root);\n",
              "\n",
              "    this._init_header(this);\n",
              "    this._init_canvas(this);\n",
              "    this._init_toolbar(this);\n",
              "\n",
              "    var fig = this;\n",
              "\n",
              "    this.waiting = false;\n",
              "\n",
              "    this.ws.onopen =  function () {\n",
              "            fig.send_message(\"supports_binary\", {value: fig.supports_binary});\n",
              "            fig.send_message(\"send_image_mode\", {});\n",
              "            if (mpl.ratio != 1) {\n",
              "                fig.send_message(\"set_dpi_ratio\", {'dpi_ratio': mpl.ratio});\n",
              "            }\n",
              "            fig.send_message(\"refresh\", {});\n",
              "        }\n",
              "\n",
              "    this.imageObj.onload = function() {\n",
              "            if (fig.image_mode == 'full') {\n",
              "                // Full images could contain transparency (where diff images\n",
              "                // almost always do), so we need to clear the canvas so that\n",
              "                // there is no ghosting.\n",
              "                fig.context.clearRect(0, 0, fig.canvas.width, fig.canvas.height);\n",
              "            }\n",
              "            fig.context.drawImage(fig.imageObj, 0, 0);\n",
              "        };\n",
              "\n",
              "    this.imageObj.onunload = function() {\n",
              "        fig.ws.close();\n",
              "    }\n",
              "\n",
              "    this.ws.onmessage = this._make_on_message_function(this);\n",
              "\n",
              "    this.ondownload = ondownload;\n",
              "}\n",
              "\n",
              "mpl.figure.prototype._init_header = function() {\n",
              "    var titlebar = $(\n",
              "        '<div class=\"ui-dialog-titlebar ui-widget-header ui-corner-all ' +\n",
              "        'ui-helper-clearfix\"/>');\n",
              "    var titletext = $(\n",
              "        '<div class=\"ui-dialog-title\" style=\"width: 100%; ' +\n",
              "        'text-align: center; padding: 3px;\"/>');\n",
              "    titlebar.append(titletext)\n",
              "    this.root.append(titlebar);\n",
              "    this.header = titletext[0];\n",
              "}\n",
              "\n",
              "\n",
              "\n",
              "mpl.figure.prototype._canvas_extra_style = function(canvas_div) {\n",
              "\n",
              "}\n",
              "\n",
              "\n",
              "mpl.figure.prototype._root_extra_style = function(canvas_div) {\n",
              "\n",
              "}\n",
              "\n",
              "mpl.figure.prototype._init_canvas = function() {\n",
              "    var fig = this;\n",
              "\n",
              "    var canvas_div = $('<div/>');\n",
              "\n",
              "    canvas_div.attr('style', 'position: relative; clear: both; outline: 0');\n",
              "\n",
              "    function canvas_keyboard_event(event) {\n",
              "        return fig.key_event(event, event['data']);\n",
              "    }\n",
              "\n",
              "    canvas_div.keydown('key_press', canvas_keyboard_event);\n",
              "    canvas_div.keyup('key_release', canvas_keyboard_event);\n",
              "    this.canvas_div = canvas_div\n",
              "    this._canvas_extra_style(canvas_div)\n",
              "    this.root.append(canvas_div);\n",
              "\n",
              "    var canvas = $('<canvas/>');\n",
              "    canvas.addClass('mpl-canvas');\n",
              "    canvas.attr('style', \"left: 0; top: 0; z-index: 0; outline: 0\")\n",
              "\n",
              "    this.canvas = canvas[0];\n",
              "    this.context = canvas[0].getContext(\"2d\");\n",
              "\n",
              "    var backingStore = this.context.backingStorePixelRatio ||\n",
              "\tthis.context.webkitBackingStorePixelRatio ||\n",
              "\tthis.context.mozBackingStorePixelRatio ||\n",
              "\tthis.context.msBackingStorePixelRatio ||\n",
              "\tthis.context.oBackingStorePixelRatio ||\n",
              "\tthis.context.backingStorePixelRatio || 1;\n",
              "\n",
              "    mpl.ratio = (window.devicePixelRatio || 1) / backingStore;\n",
              "\n",
              "    var rubberband = $('<canvas/>');\n",
              "    rubberband.attr('style', \"position: absolute; left: 0; top: 0; z-index: 1;\")\n",
              "\n",
              "    var pass_mouse_events = true;\n",
              "\n",
              "    canvas_div.resizable({\n",
              "        start: function(event, ui) {\n",
              "            pass_mouse_events = false;\n",
              "        },\n",
              "        resize: function(event, ui) {\n",
              "            fig.request_resize(ui.size.width, ui.size.height);\n",
              "        },\n",
              "        stop: function(event, ui) {\n",
              "            pass_mouse_events = true;\n",
              "            fig.request_resize(ui.size.width, ui.size.height);\n",
              "        },\n",
              "    });\n",
              "\n",
              "    function mouse_event_fn(event) {\n",
              "        if (pass_mouse_events)\n",
              "            return fig.mouse_event(event, event['data']);\n",
              "    }\n",
              "\n",
              "    rubberband.mousedown('button_press', mouse_event_fn);\n",
              "    rubberband.mouseup('button_release', mouse_event_fn);\n",
              "    // Throttle sequential mouse events to 1 every 20ms.\n",
              "    rubberband.mousemove('motion_notify', mouse_event_fn);\n",
              "\n",
              "    rubberband.mouseenter('figure_enter', mouse_event_fn);\n",
              "    rubberband.mouseleave('figure_leave', mouse_event_fn);\n",
              "\n",
              "    canvas_div.on(\"wheel\", function (event) {\n",
              "        event = event.originalEvent;\n",
              "        event['data'] = 'scroll'\n",
              "        if (event.deltaY < 0) {\n",
              "            event.step = 1;\n",
              "        } else {\n",
              "            event.step = -1;\n",
              "        }\n",
              "        mouse_event_fn(event);\n",
              "    });\n",
              "\n",
              "    canvas_div.append(canvas);\n",
              "    canvas_div.append(rubberband);\n",
              "\n",
              "    this.rubberband = rubberband;\n",
              "    this.rubberband_canvas = rubberband[0];\n",
              "    this.rubberband_context = rubberband[0].getContext(\"2d\");\n",
              "    this.rubberband_context.strokeStyle = \"#000000\";\n",
              "\n",
              "    this._resize_canvas = function(width, height) {\n",
              "        // Keep the size of the canvas, canvas container, and rubber band\n",
              "        // canvas in synch.\n",
              "        canvas_div.css('width', width)\n",
              "        canvas_div.css('height', height)\n",
              "\n",
              "        canvas.attr('width', width * mpl.ratio);\n",
              "        canvas.attr('height', height * mpl.ratio);\n",
              "        canvas.attr('style', 'width: ' + width + 'px; height: ' + height + 'px;');\n",
              "\n",
              "        rubberband.attr('width', width);\n",
              "        rubberband.attr('height', height);\n",
              "    }\n",
              "\n",
              "    // Set the figure to an initial 600x600px, this will subsequently be updated\n",
              "    // upon first draw.\n",
              "    this._resize_canvas(600, 600);\n",
              "\n",
              "    // Disable right mouse context menu.\n",
              "    $(this.rubberband_canvas).bind(\"contextmenu\",function(e){\n",
              "        return false;\n",
              "    });\n",
              "\n",
              "    function set_focus () {\n",
              "        canvas.focus();\n",
              "        canvas_div.focus();\n",
              "    }\n",
              "\n",
              "    window.setTimeout(set_focus, 100);\n",
              "}\n",
              "\n",
              "mpl.figure.prototype._init_toolbar = function() {\n",
              "    var fig = this;\n",
              "\n",
              "    var nav_element = $('<div/>')\n",
              "    nav_element.attr('style', 'width: 100%');\n",
              "    this.root.append(nav_element);\n",
              "\n",
              "    // Define a callback function for later on.\n",
              "    function toolbar_event(event) {\n",
              "        return fig.toolbar_button_onclick(event['data']);\n",
              "    }\n",
              "    function toolbar_mouse_event(event) {\n",
              "        return fig.toolbar_button_onmouseover(event['data']);\n",
              "    }\n",
              "\n",
              "    for(var toolbar_ind in mpl.toolbar_items) {\n",
              "        var name = mpl.toolbar_items[toolbar_ind][0];\n",
              "        var tooltip = mpl.toolbar_items[toolbar_ind][1];\n",
              "        var image = mpl.toolbar_items[toolbar_ind][2];\n",
              "        var method_name = mpl.toolbar_items[toolbar_ind][3];\n",
              "\n",
              "        if (!name) {\n",
              "            // put a spacer in here.\n",
              "            continue;\n",
              "        }\n",
              "        var button = $('<button/>');\n",
              "        button.addClass('ui-button ui-widget ui-state-default ui-corner-all ' +\n",
              "                        'ui-button-icon-only');\n",
              "        button.attr('role', 'button');\n",
              "        button.attr('aria-disabled', 'false');\n",
              "        button.click(method_name, toolbar_event);\n",
              "        button.mouseover(tooltip, toolbar_mouse_event);\n",
              "\n",
              "        var icon_img = $('<span/>');\n",
              "        icon_img.addClass('ui-button-icon-primary ui-icon');\n",
              "        icon_img.addClass(image);\n",
              "        icon_img.addClass('ui-corner-all');\n",
              "\n",
              "        var tooltip_span = $('<span/>');\n",
              "        tooltip_span.addClass('ui-button-text');\n",
              "        tooltip_span.html(tooltip);\n",
              "\n",
              "        button.append(icon_img);\n",
              "        button.append(tooltip_span);\n",
              "\n",
              "        nav_element.append(button);\n",
              "    }\n",
              "\n",
              "    var fmt_picker_span = $('<span/>');\n",
              "\n",
              "    var fmt_picker = $('<select/>');\n",
              "    fmt_picker.addClass('mpl-toolbar-option ui-widget ui-widget-content');\n",
              "    fmt_picker_span.append(fmt_picker);\n",
              "    nav_element.append(fmt_picker_span);\n",
              "    this.format_dropdown = fmt_picker[0];\n",
              "\n",
              "    for (var ind in mpl.extensions) {\n",
              "        var fmt = mpl.extensions[ind];\n",
              "        var option = $(\n",
              "            '<option/>', {selected: fmt === mpl.default_extension}).html(fmt);\n",
              "        fmt_picker.append(option)\n",
              "    }\n",
              "\n",
              "    // Add hover states to the ui-buttons\n",
              "    $( \".ui-button\" ).hover(\n",
              "        function() { $(this).addClass(\"ui-state-hover\");},\n",
              "        function() { $(this).removeClass(\"ui-state-hover\");}\n",
              "    );\n",
              "\n",
              "    var status_bar = $('<span class=\"mpl-message\"/>');\n",
              "    nav_element.append(status_bar);\n",
              "    this.message = status_bar[0];\n",
              "}\n",
              "\n",
              "mpl.figure.prototype.request_resize = function(x_pixels, y_pixels) {\n",
              "    // Request matplotlib to resize the figure. Matplotlib will then trigger a resize in the client,\n",
              "    // which will in turn request a refresh of the image.\n",
              "    this.send_message('resize', {'width': x_pixels, 'height': y_pixels});\n",
              "}\n",
              "\n",
              "mpl.figure.prototype.send_message = function(type, properties) {\n",
              "    properties['type'] = type;\n",
              "    properties['figure_id'] = this.id;\n",
              "    this.ws.send(JSON.stringify(properties));\n",
              "}\n",
              "\n",
              "mpl.figure.prototype.send_draw_message = function() {\n",
              "    if (!this.waiting) {\n",
              "        this.waiting = true;\n",
              "        this.ws.send(JSON.stringify({type: \"draw\", figure_id: this.id}));\n",
              "    }\n",
              "}\n",
              "\n",
              "\n",
              "mpl.figure.prototype.handle_save = function(fig, msg) {\n",
              "    var format_dropdown = fig.format_dropdown;\n",
              "    var format = format_dropdown.options[format_dropdown.selectedIndex].value;\n",
              "    fig.ondownload(fig, format);\n",
              "}\n",
              "\n",
              "\n",
              "mpl.figure.prototype.handle_resize = function(fig, msg) {\n",
              "    var size = msg['size'];\n",
              "    if (size[0] != fig.canvas.width || size[1] != fig.canvas.height) {\n",
              "        fig._resize_canvas(size[0], size[1]);\n",
              "        fig.send_message(\"refresh\", {});\n",
              "    };\n",
              "}\n",
              "\n",
              "mpl.figure.prototype.handle_rubberband = function(fig, msg) {\n",
              "    var x0 = msg['x0'] / mpl.ratio;\n",
              "    var y0 = (fig.canvas.height - msg['y0']) / mpl.ratio;\n",
              "    var x1 = msg['x1'] / mpl.ratio;\n",
              "    var y1 = (fig.canvas.height - msg['y1']) / mpl.ratio;\n",
              "    x0 = Math.floor(x0) + 0.5;\n",
              "    y0 = Math.floor(y0) + 0.5;\n",
              "    x1 = Math.floor(x1) + 0.5;\n",
              "    y1 = Math.floor(y1) + 0.5;\n",
              "    var min_x = Math.min(x0, x1);\n",
              "    var min_y = Math.min(y0, y1);\n",
              "    var width = Math.abs(x1 - x0);\n",
              "    var height = Math.abs(y1 - y0);\n",
              "\n",
              "    fig.rubberband_context.clearRect(\n",
              "        0, 0, fig.canvas.width, fig.canvas.height);\n",
              "\n",
              "    fig.rubberband_context.strokeRect(min_x, min_y, width, height);\n",
              "}\n",
              "\n",
              "mpl.figure.prototype.handle_figure_label = function(fig, msg) {\n",
              "    // Updates the figure title.\n",
              "    fig.header.textContent = msg['label'];\n",
              "}\n",
              "\n",
              "mpl.figure.prototype.handle_cursor = function(fig, msg) {\n",
              "    var cursor = msg['cursor'];\n",
              "    switch(cursor)\n",
              "    {\n",
              "    case 0:\n",
              "        cursor = 'pointer';\n",
              "        break;\n",
              "    case 1:\n",
              "        cursor = 'default';\n",
              "        break;\n",
              "    case 2:\n",
              "        cursor = 'crosshair';\n",
              "        break;\n",
              "    case 3:\n",
              "        cursor = 'move';\n",
              "        break;\n",
              "    }\n",
              "    fig.rubberband_canvas.style.cursor = cursor;\n",
              "}\n",
              "\n",
              "mpl.figure.prototype.handle_message = function(fig, msg) {\n",
              "    fig.message.textContent = msg['message'];\n",
              "}\n",
              "\n",
              "mpl.figure.prototype.handle_draw = function(fig, msg) {\n",
              "    // Request the server to send over a new figure.\n",
              "    fig.send_draw_message();\n",
              "}\n",
              "\n",
              "mpl.figure.prototype.handle_image_mode = function(fig, msg) {\n",
              "    fig.image_mode = msg['mode'];\n",
              "}\n",
              "\n",
              "mpl.figure.prototype.updated_canvas_event = function() {\n",
              "    // Called whenever the canvas gets updated.\n",
              "    this.send_message(\"ack\", {});\n",
              "}\n",
              "\n",
              "// A function to construct a web socket function for onmessage handling.\n",
              "// Called in the figure constructor.\n",
              "mpl.figure.prototype._make_on_message_function = function(fig) {\n",
              "    return function socket_on_message(evt) {\n",
              "        if (evt.data instanceof Blob) {\n",
              "            /* FIXME: We get \"Resource interpreted as Image but\n",
              "             * transferred with MIME type text/plain:\" errors on\n",
              "             * Chrome.  But how to set the MIME type?  It doesn't seem\n",
              "             * to be part of the websocket stream */\n",
              "            evt.data.type = \"image/png\";\n",
              "\n",
              "            /* Free the memory for the previous frames */\n",
              "            if (fig.imageObj.src) {\n",
              "                (window.URL || window.webkitURL).revokeObjectURL(\n",
              "                    fig.imageObj.src);\n",
              "            }\n",
              "\n",
              "            fig.imageObj.src = (window.URL || window.webkitURL).createObjectURL(\n",
              "                evt.data);\n",
              "            fig.updated_canvas_event();\n",
              "            fig.waiting = false;\n",
              "            return;\n",
              "        }\n",
              "        else if (typeof evt.data === 'string' && evt.data.slice(0, 21) == \"data:image/png;base64\") {\n",
              "            fig.imageObj.src = evt.data;\n",
              "            fig.updated_canvas_event();\n",
              "            fig.waiting = false;\n",
              "            return;\n",
              "        }\n",
              "\n",
              "        var msg = JSON.parse(evt.data);\n",
              "        var msg_type = msg['type'];\n",
              "\n",
              "        // Call the  \"handle_{type}\" callback, which takes\n",
              "        // the figure and JSON message as its only arguments.\n",
              "        try {\n",
              "            var callback = fig[\"handle_\" + msg_type];\n",
              "        } catch (e) {\n",
              "            console.log(\"No handler for the '\" + msg_type + \"' message type: \", msg);\n",
              "            return;\n",
              "        }\n",
              "\n",
              "        if (callback) {\n",
              "            try {\n",
              "                // console.log(\"Handling '\" + msg_type + \"' message: \", msg);\n",
              "                callback(fig, msg);\n",
              "            } catch (e) {\n",
              "                console.log(\"Exception inside the 'handler_\" + msg_type + \"' callback:\", e, e.stack, msg);\n",
              "            }\n",
              "        }\n",
              "    };\n",
              "}\n",
              "\n",
              "// from http://stackoverflow.com/questions/1114465/getting-mouse-location-in-canvas\n",
              "mpl.findpos = function(e) {\n",
              "    //this section is from http://www.quirksmode.org/js/events_properties.html\n",
              "    var targ;\n",
              "    if (!e)\n",
              "        e = window.event;\n",
              "    if (e.target)\n",
              "        targ = e.target;\n",
              "    else if (e.srcElement)\n",
              "        targ = e.srcElement;\n",
              "    if (targ.nodeType == 3) // defeat Safari bug\n",
              "        targ = targ.parentNode;\n",
              "\n",
              "    // jQuery normalizes the pageX and pageY\n",
              "    // pageX,Y are the mouse positions relative to the document\n",
              "    // offset() returns the position of the element relative to the document\n",
              "    var x = e.pageX - $(targ).offset().left;\n",
              "    var y = e.pageY - $(targ).offset().top;\n",
              "\n",
              "    return {\"x\": x, \"y\": y};\n",
              "};\n",
              "\n",
              "/*\n",
              " * return a copy of an object with only non-object keys\n",
              " * we need this to avoid circular references\n",
              " * http://stackoverflow.com/a/24161582/3208463\n",
              " */\n",
              "function simpleKeys (original) {\n",
              "  return Object.keys(original).reduce(function (obj, key) {\n",
              "    if (typeof original[key] !== 'object')\n",
              "        obj[key] = original[key]\n",
              "    return obj;\n",
              "  }, {});\n",
              "}\n",
              "\n",
              "mpl.figure.prototype.mouse_event = function(event, name) {\n",
              "    var canvas_pos = mpl.findpos(event)\n",
              "\n",
              "    if (name === 'button_press')\n",
              "    {\n",
              "        this.canvas.focus();\n",
              "        this.canvas_div.focus();\n",
              "    }\n",
              "\n",
              "    var x = canvas_pos.x * mpl.ratio;\n",
              "    var y = canvas_pos.y * mpl.ratio;\n",
              "\n",
              "    this.send_message(name, {x: x, y: y, button: event.button,\n",
              "                             step: event.step,\n",
              "                             guiEvent: simpleKeys(event)});\n",
              "\n",
              "    /* This prevents the web browser from automatically changing to\n",
              "     * the text insertion cursor when the button is pressed.  We want\n",
              "     * to control all of the cursor setting manually through the\n",
              "     * 'cursor' event from matplotlib */\n",
              "    event.preventDefault();\n",
              "    return false;\n",
              "}\n",
              "\n",
              "mpl.figure.prototype._key_event_extra = function(event, name) {\n",
              "    // Handle any extra behaviour associated with a key event\n",
              "}\n",
              "\n",
              "mpl.figure.prototype.key_event = function(event, name) {\n",
              "\n",
              "    // Prevent repeat events\n",
              "    if (name == 'key_press')\n",
              "    {\n",
              "        if (event.which === this._key)\n",
              "            return;\n",
              "        else\n",
              "            this._key = event.which;\n",
              "    }\n",
              "    if (name == 'key_release')\n",
              "        this._key = null;\n",
              "\n",
              "    var value = '';\n",
              "    if (event.ctrlKey && event.which != 17)\n",
              "        value += \"ctrl+\";\n",
              "    if (event.altKey && event.which != 18)\n",
              "        value += \"alt+\";\n",
              "    if (event.shiftKey && event.which != 16)\n",
              "        value += \"shift+\";\n",
              "\n",
              "    value += 'k';\n",
              "    value += event.which.toString();\n",
              "\n",
              "    this._key_event_extra(event, name);\n",
              "\n",
              "    this.send_message(name, {key: value,\n",
              "                             guiEvent: simpleKeys(event)});\n",
              "    return false;\n",
              "}\n",
              "\n",
              "mpl.figure.prototype.toolbar_button_onclick = function(name) {\n",
              "    if (name == 'download') {\n",
              "        this.handle_save(this, null);\n",
              "    } else {\n",
              "        this.send_message(\"toolbar_button\", {name: name});\n",
              "    }\n",
              "};\n",
              "\n",
              "mpl.figure.prototype.toolbar_button_onmouseover = function(tooltip) {\n",
              "    this.message.textContent = tooltip;\n",
              "};\n",
              "mpl.toolbar_items = [[\"Home\", \"Reset original view\", \"fa fa-home icon-home\", \"home\"], [\"Back\", \"Back to previous view\", \"fa fa-arrow-left icon-arrow-left\", \"back\"], [\"Forward\", \"Forward to next view\", \"fa fa-arrow-right icon-arrow-right\", \"forward\"], [\"\", \"\", \"\", \"\"], [\"Pan\", \"Pan axes with left mouse, zoom with right\", \"fa fa-arrows icon-move\", \"pan\"], [\"Zoom\", \"Zoom to rectangle\", \"fa fa-square-o icon-check-empty\", \"zoom\"], [\"\", \"\", \"\", \"\"], [\"Download\", \"Download plot\", \"fa fa-floppy-o icon-save\", \"download\"]];\n",
              "\n",
              "mpl.extensions = [\"eps\", \"jpeg\", \"pdf\", \"png\", \"ps\", \"raw\", \"svg\", \"tif\"];\n",
              "\n",
              "mpl.default_extension = \"png\";var comm_websocket_adapter = function(comm) {\n",
              "    // Create a \"websocket\"-like object which calls the given IPython comm\n",
              "    // object with the appropriate methods. Currently this is a non binary\n",
              "    // socket, so there is still some room for performance tuning.\n",
              "    var ws = {};\n",
              "\n",
              "    ws.close = function() {\n",
              "        comm.close()\n",
              "    };\n",
              "    ws.send = function(m) {\n",
              "        //console.log('sending', m);\n",
              "        comm.send(m);\n",
              "    };\n",
              "    // Register the callback with on_msg.\n",
              "    comm.on_msg(function(msg) {\n",
              "        //console.log('receiving', msg['content']['data'], msg);\n",
              "        // Pass the mpl event to the overridden (by mpl) onmessage function.\n",
              "        ws.onmessage(msg['content']['data'])\n",
              "    });\n",
              "    return ws;\n",
              "}\n",
              "\n",
              "mpl.mpl_figure_comm = function(comm, msg) {\n",
              "    // This is the function which gets called when the mpl process\n",
              "    // starts-up an IPython Comm through the \"matplotlib\" channel.\n",
              "\n",
              "    var id = msg.content.data.id;\n",
              "    // Get hold of the div created by the display call when the Comm\n",
              "    // socket was opened in Python.\n",
              "    var element = $(\"#\" + id);\n",
              "    var ws_proxy = comm_websocket_adapter(comm)\n",
              "\n",
              "    function ondownload(figure, format) {\n",
              "        window.open(figure.imageObj.src);\n",
              "    }\n",
              "\n",
              "    var fig = new mpl.figure(id, ws_proxy,\n",
              "                           ondownload,\n",
              "                           element.get(0));\n",
              "\n",
              "    // Call onopen now - mpl needs it, as it is assuming we've passed it a real\n",
              "    // web socket which is closed, not our websocket->open comm proxy.\n",
              "    ws_proxy.onopen();\n",
              "\n",
              "    fig.parent_element = element.get(0);\n",
              "    fig.cell_info = mpl.find_output_cell(\"<div id='\" + id + \"'></div>\");\n",
              "    if (!fig.cell_info) {\n",
              "        console.error(\"Failed to find cell for figure\", id, fig);\n",
              "        return;\n",
              "    }\n",
              "\n",
              "    var output_index = fig.cell_info[2]\n",
              "    var cell = fig.cell_info[0];\n",
              "\n",
              "};\n",
              "\n",
              "mpl.figure.prototype.handle_close = function(fig, msg) {\n",
              "    var width = fig.canvas.width/mpl.ratio\n",
              "    fig.root.unbind('remove')\n",
              "\n",
              "    // Update the output cell to use the data from the current canvas.\n",
              "    fig.push_to_output();\n",
              "    var dataURL = fig.canvas.toDataURL();\n",
              "    // Re-enable the keyboard manager in IPython - without this line, in FF,\n",
              "    // the notebook keyboard shortcuts fail.\n",
              "    IPython.keyboard_manager.enable()\n",
              "    $(fig.parent_element).html('<img src=\"' + dataURL + '\" width=\"' + width + '\">');\n",
              "    fig.close_ws(fig, msg);\n",
              "}\n",
              "\n",
              "mpl.figure.prototype.close_ws = function(fig, msg){\n",
              "    fig.send_message('closing', msg);\n",
              "    // fig.ws.close()\n",
              "}\n",
              "\n",
              "mpl.figure.prototype.push_to_output = function(remove_interactive) {\n",
              "    // Turn the data on the canvas into data in the output cell.\n",
              "    var width = this.canvas.width/mpl.ratio\n",
              "    var dataURL = this.canvas.toDataURL();\n",
              "    this.cell_info[1]['text/html'] = '<img src=\"' + dataURL + '\" width=\"' + width + '\">';\n",
              "}\n",
              "\n",
              "mpl.figure.prototype.updated_canvas_event = function() {\n",
              "    // Tell IPython that the notebook contents must change.\n",
              "    IPython.notebook.set_dirty(true);\n",
              "    this.send_message(\"ack\", {});\n",
              "    var fig = this;\n",
              "    // Wait a second, then push the new image to the DOM so\n",
              "    // that it is saved nicely (might be nice to debounce this).\n",
              "    setTimeout(function () { fig.push_to_output() }, 1000);\n",
              "}\n",
              "\n",
              "mpl.figure.prototype._init_toolbar = function() {\n",
              "    var fig = this;\n",
              "\n",
              "    var nav_element = $('<div/>')\n",
              "    nav_element.attr('style', 'width: 100%');\n",
              "    this.root.append(nav_element);\n",
              "\n",
              "    // Define a callback function for later on.\n",
              "    function toolbar_event(event) {\n",
              "        return fig.toolbar_button_onclick(event['data']);\n",
              "    }\n",
              "    function toolbar_mouse_event(event) {\n",
              "        return fig.toolbar_button_onmouseover(event['data']);\n",
              "    }\n",
              "\n",
              "    for(var toolbar_ind in mpl.toolbar_items){\n",
              "        var name = mpl.toolbar_items[toolbar_ind][0];\n",
              "        var tooltip = mpl.toolbar_items[toolbar_ind][1];\n",
              "        var image = mpl.toolbar_items[toolbar_ind][2];\n",
              "        var method_name = mpl.toolbar_items[toolbar_ind][3];\n",
              "\n",
              "        if (!name) { continue; };\n",
              "\n",
              "        var button = $('<button class=\"btn btn-default\" href=\"#\" title=\"' + name + '\"><i class=\"fa ' + image + ' fa-lg\"></i></button>');\n",
              "        button.click(method_name, toolbar_event);\n",
              "        button.mouseover(tooltip, toolbar_mouse_event);\n",
              "        nav_element.append(button);\n",
              "    }\n",
              "\n",
              "    // Add the status bar.\n",
              "    var status_bar = $('<span class=\"mpl-message\" style=\"text-align:right; float: right;\"/>');\n",
              "    nav_element.append(status_bar);\n",
              "    this.message = status_bar[0];\n",
              "\n",
              "    // Add the close button to the window.\n",
              "    var buttongrp = $('<div class=\"btn-group inline pull-right\"></div>');\n",
              "    var button = $('<button class=\"btn btn-mini btn-primary\" href=\"#\" title=\"Stop Interaction\"><i class=\"fa fa-power-off icon-remove icon-large\"></i></button>');\n",
              "    button.click(function (evt) { fig.handle_close(fig, {}); } );\n",
              "    button.mouseover('Stop Interaction', toolbar_mouse_event);\n",
              "    buttongrp.append(button);\n",
              "    var titlebar = this.root.find($('.ui-dialog-titlebar'));\n",
              "    titlebar.prepend(buttongrp);\n",
              "}\n",
              "\n",
              "mpl.figure.prototype._root_extra_style = function(el){\n",
              "    var fig = this\n",
              "    el.on(\"remove\", function(){\n",
              "\tfig.close_ws(fig, {});\n",
              "    });\n",
              "}\n",
              "\n",
              "mpl.figure.prototype._canvas_extra_style = function(el){\n",
              "    // this is important to make the div 'focusable\n",
              "    el.attr('tabindex', 0)\n",
              "    // reach out to IPython and tell the keyboard manager to turn it's self\n",
              "    // off when our div gets focus\n",
              "\n",
              "    // location in version 3\n",
              "    if (IPython.notebook.keyboard_manager) {\n",
              "        IPython.notebook.keyboard_manager.register_events(el);\n",
              "    }\n",
              "    else {\n",
              "        // location in version 2\n",
              "        IPython.keyboard_manager.register_events(el);\n",
              "    }\n",
              "\n",
              "}\n",
              "\n",
              "mpl.figure.prototype._key_event_extra = function(event, name) {\n",
              "    var manager = IPython.notebook.keyboard_manager;\n",
              "    if (!manager)\n",
              "        manager = IPython.keyboard_manager;\n",
              "\n",
              "    // Check for shift+enter\n",
              "    if (event.shiftKey && event.which == 13) {\n",
              "        this.canvas_div.blur();\n",
              "        event.shiftKey = false;\n",
              "        // Send a \"J\" for go to next cell\n",
              "        event.which = 74;\n",
              "        event.keyCode = 74;\n",
              "        manager.command_mode();\n",
              "        manager.handle_keydown(event);\n",
              "    }\n",
              "}\n",
              "\n",
              "mpl.figure.prototype.handle_save = function(fig, msg) {\n",
              "    fig.ondownload(fig, null);\n",
              "}\n",
              "\n",
              "\n",
              "mpl.find_output_cell = function(html_output) {\n",
              "    // Return the cell and output element which can be found *uniquely* in the notebook.\n",
              "    // Note - this is a bit hacky, but it is done because the \"notebook_saving.Notebook\"\n",
              "    // IPython event is triggered only after the cells have been serialised, which for\n",
              "    // our purposes (turning an active figure into a static one), is too late.\n",
              "    var cells = IPython.notebook.get_cells();\n",
              "    var ncells = cells.length;\n",
              "    for (var i=0; i<ncells; i++) {\n",
              "        var cell = cells[i];\n",
              "        if (cell.cell_type === 'code'){\n",
              "            for (var j=0; j<cell.output_area.outputs.length; j++) {\n",
              "                var data = cell.output_area.outputs[j];\n",
              "                if (data.data) {\n",
              "                    // IPython >= 3 moved mimebundle to data attribute of output\n",
              "                    data = data.data;\n",
              "                }\n",
              "                if (data['text/html'] == html_output) {\n",
              "                    return [cell, data, j];\n",
              "                }\n",
              "            }\n",
              "        }\n",
              "    }\n",
              "}\n",
              "\n",
              "// Register the function which deals with the matplotlib target/channel.\n",
              "// The kernel may be null if the page has been refreshed.\n",
              "if (IPython.notebook.kernel != null) {\n",
              "    IPython.notebook.kernel.comm_manager.register_target('matplotlib', mpl.mpl_figure_comm);\n",
              "}\n"
            ],
            "text/plain": [
              "<IPython.core.display.Javascript object>"
            ]
          },
          "metadata": {
            "tags": []
          }
        },
        {
          "output_type": "display_data",
          "data": {
            "text/html": [
              "<img src=\"data:image/png;base64,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\" width=\"600\">"
            ],
            "text/plain": [
              "<IPython.core.display.HTML object>"
            ]
          },
          "metadata": {
            "tags": []
          }
        },
        {
          "output_type": "execute_result",
          "data": {
            "text/plain": [
              "<stable_baselines.ppo2.ppo2.PPO2 at 0x7fef10379780>"
            ]
          },
          "metadata": {
            "tags": []
          },
          "execution_count": 6
        }
      ]
    },
    {
      "cell_type": "markdown",
      "metadata": {
        "id": "49RVX7ieRUn7",
        "colab_type": "text"
      },
      "source": [
        "## Third example: Progress bar\n",
        "Quality of life improvement are always welcome when developping and using RL. Here, we used [tqdm](https://tqdm.github.io/) to show a progress bar of the training, along with number of timesteps per second and the estimated time remaining to the end of the training:"
      ]
    },
    {
      "cell_type": "code",
      "metadata": {
        "id": "pXa8f6FsRUn8",
        "colab_type": "code",
        "colab": {}
      },
      "source": [
        "from tqdm.auto import tqdm\n",
        "\n",
        "class progressbar_callback(object):\n",
        "    def __init__(self, total_timesteps):\n",
        "        self.pbar = None\n",
        "        self.total_timesteps = total_timesteps\n",
        "        \n",
        "    def __enter__(self):\n",
        "        self.pbar = tqdm(total=self.total_timesteps)\n",
        "        \n",
        "        def callback_progressbar(local_, global_):\n",
        "            self.pbar.n = local_[\"self\"].num_timesteps\n",
        "            self.pbar.update(0)\n",
        "            \n",
        "        return callback_progressbar\n",
        "\n",
        "    def __exit__(self, exc_type, exc_val, exc_tb):\n",
        "        self.pbar.n = self.total_timesteps\n",
        "        self.pbar.update(0)\n",
        "        self.pbar.close()\n",
        "        \n",
        "model = TD3('MlpPolicy', 'Pendulum-v0', verbose=0)\n",
        "with progressbar_callback(2000) as callback: # needed for closing tqdm progress bar\n",
        "    model.learn(2000, callback=callback)"
      ],
      "execution_count": 0,
      "outputs": []
    },
    {
      "cell_type": "markdown",
      "metadata": {
        "id": "lBF4ij46RUoC",
        "colab_type": "text"
      },
      "source": [
        "## Forth example: Composition\n",
        "Thanks to the functional nature of callbacks, it is possible to do a composition of callbacks, into a single callback. This means we can auto save our best model, show the progess bar and episodic reward of the training:"
      ]
    },
    {
      "cell_type": "code",
      "metadata": {
        "scrolled": false,
        "id": "5hU3T9tkRUoD",
        "colab_type": "code",
        "colab": {}
      },
      "source": [
        "%matplotlib notebook\n",
        "\n",
        "def compose_callback(*callback_funcs):\n",
        "    def _callback(_locals, _globals):\n",
        "        continue_training = True\n",
        "        for cb_func in callback_funcs:\n",
        "            if cb_func(_locals, _globals) is False: # as a callback can return None for legacy reasons.\n",
        "                continue_training = False\n",
        "        return continue_training\n",
        "    return _callback\n",
        "\n",
        "# Create log dir\n",
        "log_dir = \"/tmp/gym/\"\n",
        "os.makedirs(log_dir, exist_ok=True)\n",
        "\n",
        "# Create and wrap the environment\n",
        "env = gym.make('CartPole-v1')\n",
        "env = Monitor(env, log_dir, allow_early_resets=True)\n",
        "env = DummyVecEnv([lambda: env])\n",
        "\n",
        "model = PPO2('MlpPolicy', env, verbose=0)\n",
        "with progressbar_callback(10000) as progress_callback:\n",
        "    model.learn(10000, callback=compose_callback(progress_callback, plotting_callback, auto_save_callback))"
      ],
      "execution_count": 0,
      "outputs": []
    },
    {
      "cell_type": "markdown",
      "metadata": {
        "id": "hPaNlOk4RUoH",
        "colab_type": "text"
      },
      "source": [
        "# Saving and loading\n",
        "\n",
        "Saving and loading stable-baselines models is straightforward: you can directly call `.save()` and `.load()` on the models."
      ]
    },
    {
      "cell_type": "code",
      "metadata": {
        "id": "PBQAynmKRUoI",
        "colab_type": "code",
        "outputId": "44105bfd-3aa3-40a6-dbb4-6370b4da0752",
        "colab": {}
      },
      "source": [
        "import os\n",
        "\n",
        "# Create save dir\n",
        "save_dir = \"/tmp/gym/\"\n",
        "os.makedirs(save_dir, exist_ok=True)\n",
        "\n",
        "model = PPO2('MlpPolicy', 'Pendulum-v0', verbose=0).learn(8000)\n",
        "# The model will be saved under PPO2_tutorial.zip\n",
        "model.save(save_dir + \"/PPO2_tutorial\")\n",
        "\n",
        "# Check prediction before saving\n",
        "print(\"pre saved\", model.predict([0, 0, 0], deterministic=True))\n",
        "\n",
        "del model # delete model from memory\n",
        "\n",
        "loaded_model = PPO2.load(save_dir + \"/PPO2_tutorial\")\n",
        "# Check that the prediction is the same after loading (for the same observation)\n",
        "print(\"loaded\", loaded_model.predict([0, 0, 0], deterministic=True))"
      ],
      "execution_count": 0,
      "outputs": [
        {
          "output_type": "stream",
          "text": [
            "pre saved (array([-0.0224568], dtype=float32), None)\n",
            "loaded (array([-0.0224568], dtype=float32), None)\n"
          ],
          "name": "stdout"
        }
      ]
    },
    {
      "cell_type": "markdown",
      "metadata": {
        "id": "Ojn4nvNNRUoT",
        "colab_type": "text"
      },
      "source": [
        "## Saving format \n",
        "\n",
        "The format for saving and loading models has been recently revamped as of Stable-Baselines (>2.7.0).\n",
        "\n",
        "It is a zip-archived JSON dump and NumPy zip archive of the arrays:\n",
        "```\n",
        "saved_model.zip/\n",
        "├── data              JSON file of class-parameters (dictionary)\n",
        "├── parameter_list    JSON file of model parameters and their ordering (list)\n",
        "├── parameters        Bytes from numpy.savez (a zip file of the numpy arrays). ...\n",
        "    ├── ...           Being a zip-archive itself, this object can also be opened ...\n",
        "        ├── ...       as a zip-archive and browsed.\n",
        "```"
      ]
    },
    {
      "cell_type": "markdown",
      "metadata": {
        "id": "QWAcc8RFRUoU",
        "colab_type": "text"
      },
      "source": [
        "## Save and find "
      ]
    },
    {
      "cell_type": "code",
      "metadata": {
        "id": "4tcQxzSCRUoV",
        "colab_type": "code",
        "colab": {}
      },
      "source": [
        "# Create save dir\n",
        "save_dir = \"/tmp/gym/\"\n",
        "os.makedirs(save_dir, exist_ok=True)\n",
        "\n",
        "model = PPO2('MlpPolicy', 'Pendulum-v0', verbose=0).learn(8000)\n",
        "model.save(save_dir + \"/PPO2_tutorial\")"
      ],
      "execution_count": 0,
      "outputs": []
    },
    {
      "cell_type": "code",
      "metadata": {
        "id": "rGaMNz4HRUoX",
        "colab_type": "code",
        "outputId": "12dd5023-e35c-4c1b-8c51-7a9972cc2cbc",
        "colab": {}
      },
      "source": [
        "!ls /tmp/gym/PPO2_tutorial*"
      ],
      "execution_count": 0,
      "outputs": [
        {
          "output_type": "stream",
          "text": [
            "/tmp/gym/PPO2_tutorial.zip\r\n"
          ],
          "name": "stdout"
        }
      ]
    },
    {
      "cell_type": "code",
      "metadata": {
        "id": "gYY3nQyyRUoa",
        "colab_type": "code",
        "outputId": "61f13df8-431b-43f9-e329-9ada09a9af83",
        "colab": {}
      },
      "source": [
        "import zipfile\n",
        "\n",
        "archive = zipfile.ZipFile(\"/tmp/gym/PPO2_tutorial.zip\", 'r')\n",
        "for f in archive.filelist:\n",
        "  print(f.filename)"
      ],
      "execution_count": 0,
      "outputs": [
        {
          "output_type": "stream",
          "text": [
            "data\n",
            "parameters\n",
            "parameter_list\n"
          ],
          "name": "stdout"
        }
      ]
    },
    {
      "cell_type": "markdown",
      "metadata": {
        "id": "yhG7n1e6RUod",
        "colab_type": "text"
      },
      "source": [
        "## Model data"
      ]
    },
    {
      "cell_type": "code",
      "metadata": {
        "id": "Fbec40P5RUoe",
        "colab_type": "code",
        "outputId": "70e27319-abd1-4656-85ab-18cffd85d0c7",
        "colab": {}
      },
      "source": [
        "import json\n",
        "json.loads(archive.read('data'))"
      ],
      "execution_count": 0,
      "outputs": [
        {
          "output_type": "execute_result",
          "data": {
            "text/plain": [
              "{'gamma': 0.99,\n",
              " 'n_steps': 128,\n",
              " 'vf_coef': 0.5,\n",
              " 'ent_coef': 0.01,\n",
              " 'max_grad_norm': 0.5,\n",
              " 'learning_rate': {':type:': \"<class 'function'>\",\n",
              "  ':serialized:': 'gASVmgEAAAAAAACMF2Nsb3VkcGlja2xlLmNsb3VkcGlja2xllIwOX2ZpbGxfZnVuY3Rpb26Uk5QoaACMD19tYWtlX3NrZWxfZnVuY5STlGgAjA1fYnVpbHRpbl90eXBllJOUjAhDb2RlVHlwZZSFlFKUKEsBSwBLAUsBSxNDBIgAUwCUToWUKYwBX5SFlIxSL2hvbWUvYWgyNTc5NjIvYW5hY29uZGEzL2xpYi9weXRob24zLjYvc2l0ZS1wYWNrYWdlcy9zdGFibGVfYmFzZWxpbmVzL3BwbzIvcHBvMi5weZSMBGZ1bmOUTSUCQwIAAZSMA3ZhbJSFlCl0lFKUSwGMGnN0YWJsZV9iYXNlbGluZXMucHBvMi5wcG8ylIeUUpR9lCiMB2dsb2JhbHOUfZSMCGRlZmF1bHRzlE6MBGRpY3SUfZSMDmNsb3N1cmVfdmFsdWVzlF2URz8wYk3S8an8YYwGbW9kdWxllGgVjARuYW1llGgPjANkb2OUTowIcXVhbG5hbWWUjBVjb25zdGZuLjxsb2NhbHM+LmZ1bmOUdXRSLg=='},\n",
              " 'lam': 0.95,\n",
              " 'nminibatches': 4,\n",
              " 'noptepochs': 4,\n",
              " 'cliprange': {':type:': \"<class 'function'>\",\n",
              "  ':serialized:': 'gASVmgEAAAAAAACMF2Nsb3VkcGlja2xlLmNsb3VkcGlja2xllIwOX2ZpbGxfZnVuY3Rpb26Uk5QoaACMD19tYWtlX3NrZWxfZnVuY5STlGgAjA1fYnVpbHRpbl90eXBllJOUjAhDb2RlVHlwZZSFlFKUKEsBSwBLAUsBSxNDBIgAUwCUToWUKYwBX5SFlIxSL2hvbWUvYWgyNTc5NjIvYW5hY29uZGEzL2xpYi9weXRob24zLjYvc2l0ZS1wYWNrYWdlcy9zdGFibGVfYmFzZWxpbmVzL3BwbzIvcHBvMi5weZSMBGZ1bmOUTSUCQwIAAZSMA3ZhbJSFlCl0lFKUSwGMGnN0YWJsZV9iYXNlbGluZXMucHBvMi5wcG8ylIeUUpR9lCiMB2dsb2JhbHOUfZSMCGRlZmF1bHRzlE6MBGRpY3SUfZSMDmNsb3N1cmVfdmFsdWVzlF2URz/JmZmZmZmaYYwGbW9kdWxllGgVjARuYW1llGgPjANkb2OUTowIcXVhbG5hbWWUjBVjb25zdGZuLjxsb2NhbHM+LmZ1bmOUdXRSLg=='},\n",
              " 'cliprange_vf': 0.2,\n",
              " 'verbose': 0,\n",
              " 'policy': {':type:': \"<class 'abc.ABCMeta'>\",\n",
              "  ':serialized:': 'gASVMgAAAAAAAACMIHN0YWJsZV9iYXNlbGluZXMuY29tbW9uLnBvbGljaWVzlIwJTWxwUG9saWN5lJOULg==',\n",
              "  '__module__': 'stable_baselines.common.policies',\n",
              "  '__doc__': '\\n    Policy object that implements actor critic, using a MLP (2 layers of 64)\\n\\n    :param sess: (TensorFlow session) The current TensorFlow session\\n    :param ob_space: (Gym Space) The observation space of the environment\\n    :param ac_space: (Gym Space) The action space of the environment\\n    :param n_env: (int) The number of environments to run\\n    :param n_steps: (int) The number of steps to run for each environment\\n    :param n_batch: (int) The number of batch to run (n_envs * n_steps)\\n    :param reuse: (bool) If the policy is reusable or not\\n    :param _kwargs: (dict) Extra keyword arguments for the nature CNN feature extraction\\n    ',\n",
              "  '__init__': '<function MlpPolicy.__init__ at 0x7fef79b03e18>',\n",
              "  '__abstractmethods__': 'frozenset()',\n",
              "  '_abc_registry': '<_weakrefset.WeakSet object at 0x7fef79b04898>',\n",
              "  '_abc_cache': '<_weakrefset.WeakSet object at 0x7fef79b048d0>',\n",
              "  '_abc_negative_cache': '<_weakrefset.WeakSet object at 0x7fef79b04940>',\n",
              "  '_abc_negative_cache_version': 206},\n",
              " 'observation_space': {':type:': \"<class 'gym.spaces.box.Box'>\",\n",
              "  ':serialized:': 'gASVBAEAAAAAAACMDmd5bS5zcGFjZXMuYm94lIwDQm94lJOUKYGUfZQojANsb3eUjBVudW1weS5jb3JlLm11bHRpYXJyYXmUjAxfcmVjb25zdHJ1Y3SUk5SMBW51bXB5lIwHbmRhcnJheZSTlEsAhZRDAWKUh5RSlChLAUsDhZRoCYwFZHR5cGWUk5SMAmY0lEsASwGHlFKUKEsDjAE8lE5OTkr/////Sv////9LAHSUYolDDAAAgL8AAIC/AAAAwZR0lGKMBGhpZ2iUaAhoC0sAhZRoDYeUUpQoSwFLA4WUaBWJQwwAAIA/AACAPwAAAEGUdJRijAVzaGFwZZRLA4WUjAVkdHlwZZRoFXViLg==',\n",
              "  'low': '[-1. -1. -8.]',\n",
              "  'high': '[1. 1. 8.]',\n",
              "  'shape': [3],\n",
              "  'dtype': 'float32'},\n",
              " 'action_space': {':type:': \"<class 'gym.spaces.box.Box'>\",\n",
              "  ':serialized:': 'gASV9AAAAAAAAACMDmd5bS5zcGFjZXMuYm94lIwDQm94lJOUKYGUfZQojANsb3eUjBVudW1weS5jb3JlLm11bHRpYXJyYXmUjAxfcmVjb25zdHJ1Y3SUk5SMBW51bXB5lIwHbmRhcnJheZSTlEsAhZRDAWKUh5RSlChLAUsBhZRoCYwFZHR5cGWUk5SMAmY0lEsASwGHlFKUKEsDjAE8lE5OTkr/////Sv////9LAHSUYolDBAAAAMCUdJRijARoaWdolGgIaAtLAIWUaA2HlFKUKEsBSwGFlGgViUMEAAAAQJR0lGKMBXNoYXBllEsBhZSMBWR0eXBllGgVdWIu',\n",
              "  'low': '[-2.]',\n",
              "  'high': '[2.]',\n",
              "  'shape': [1],\n",
              "  'dtype': 'float32'},\n",
              " 'n_envs': 1,\n",
              " '_vectorize_action': False,\n",
              " 'policy_kwargs': {}}"
            ]
          },
          "metadata": {
            "tags": []
          },
          "execution_count": 13
        }
      ]
    },
    {
      "cell_type": "code",
      "metadata": {
        "id": "qjmw-1HJRUog",
        "colab_type": "code",
        "outputId": "270505b5-6817-428c-98de-916b5fb41a98",
        "colab": {}
      },
      "source": [
        "json.loads(archive.read('data'))[\"observation_space\"]"
      ],
      "execution_count": 0,
      "outputs": [
        {
          "output_type": "execute_result",
          "data": {
            "text/plain": [
              "{':type:': \"<class 'gym.spaces.box.Box'>\",\n",
              " ':serialized:': 'gASVBAEAAAAAAACMDmd5bS5zcGFjZXMuYm94lIwDQm94lJOUKYGUfZQojANsb3eUjBVudW1weS5jb3JlLm11bHRpYXJyYXmUjAxfcmVjb25zdHJ1Y3SUk5SMBW51bXB5lIwHbmRhcnJheZSTlEsAhZRDAWKUh5RSlChLAUsDhZRoCYwFZHR5cGWUk5SMAmY0lEsASwGHlFKUKEsDjAE8lE5OTkr/////Sv////9LAHSUYolDDAAAgL8AAIC/AAAAwZR0lGKMBGhpZ2iUaAhoC0sAhZRoDYeUUpQoSwFLA4WUaBWJQwwAAIA/AACAPwAAAEGUdJRijAVzaGFwZZRLA4WUjAVkdHlwZZRoFXViLg==',\n",
              " 'low': '[-1. -1. -8.]',\n",
              " 'high': '[1. 1. 8.]',\n",
              " 'shape': [3],\n",
              " 'dtype': 'float32'}"
            ]
          },
          "metadata": {
            "tags": []
          },
          "execution_count": 14
        }
      ]
    },
    {
      "cell_type": "code",
      "metadata": {
        "id": "lrrfCw6YRUoj",
        "colab_type": "code",
        "outputId": "c624fcac-8534-48bb-b543-083b0d253872",
        "colab": {}
      },
      "source": [
        "import cloudpickle\n",
        "import base64\n",
        "\n",
        "obs_space = cloudpickle.loads(\n",
        "    base64.b64decode(\n",
        "        json.loads(archive.read('data'))[\"observation_space\"][\":serialized:\"]\n",
        "    )\n",
        ")\n",
        "\n",
        "print(obs_space, type(obs_space))\n",
        "print(obs_space.__dict__)"
      ],
      "execution_count": 0,
      "outputs": [
        {
          "output_type": "stream",
          "text": [
            "Box(3,) <class 'gym.spaces.box.Box'>\n",
            "{'low': array([-1., -1., -8.], dtype=float32), 'high': array([1., 1., 8.], dtype=float32), 'shape': (3,), 'dtype': dtype('float32')}\n"
          ],
          "name": "stdout"
        }
      ]
    },
    {
      "cell_type": "markdown",
      "metadata": {
        "id": "LNUDBkOPRUom",
        "colab_type": "text"
      },
      "source": [
        "## Model parameters"
      ]
    },
    {
      "cell_type": "code",
      "metadata": {
        "id": "B-D2hM5WRUon",
        "colab_type": "code",
        "outputId": "b7e99874-db24-4afe-e5e9-f63f921be4d9",
        "colab": {}
      },
      "source": [
        "json.loads(archive.read('parameter_list'))"
      ],
      "execution_count": 0,
      "outputs": [
        {
          "output_type": "execute_result",
          "data": {
            "text/plain": [
              "['model/pi_fc0/w:0',\n",
              " 'model/pi_fc0/b:0',\n",
              " 'model/vf_fc0/w:0',\n",
              " 'model/vf_fc0/b:0',\n",
              " 'model/pi_fc1/w:0',\n",
              " 'model/pi_fc1/b:0',\n",
              " 'model/vf_fc1/w:0',\n",
              " 'model/vf_fc1/b:0',\n",
              " 'model/vf/w:0',\n",
              " 'model/vf/b:0',\n",
              " 'model/pi/w:0',\n",
              " 'model/pi/b:0',\n",
              " 'model/pi/logstd:0',\n",
              " 'model/q/w:0',\n",
              " 'model/q/b:0']"
            ]
          },
          "metadata": {
            "tags": []
          },
          "execution_count": 16
        }
      ]
    },
    {
      "cell_type": "code",
      "metadata": {
        "id": "A9B2OeH9RUoq",
        "colab_type": "code",
        "outputId": "169a82e8-891e-4bf2-8563-cf35493f2485",
        "colab": {}
      },
      "source": [
        "import io\n",
        "tmp_file = io.BytesIO(archive.read('parameters'))\n",
        "\n",
        "param_archive = zipfile.ZipFile(tmp_file, 'r')\n",
        "for f in param_archive.filelist: print(f.filename) "
      ],
      "execution_count": 0,
      "outputs": [
        {
          "output_type": "stream",
          "text": [
            "model/pi_fc0/w:0.npy\n",
            "model/pi_fc0/b:0.npy\n",
            "model/vf_fc0/w:0.npy\n",
            "model/vf_fc0/b:0.npy\n",
            "model/pi_fc1/w:0.npy\n",
            "model/pi_fc1/b:0.npy\n",
            "model/vf_fc1/w:0.npy\n",
            "model/vf_fc1/b:0.npy\n",
            "model/vf/w:0.npy\n",
            "model/vf/b:0.npy\n",
            "model/pi/w:0.npy\n",
            "model/pi/b:0.npy\n",
            "model/pi/logstd:0.npy\n",
            "model/q/w:0.npy\n",
            "model/q/b:0.npy\n"
          ],
          "name": "stdout"
        }
      ]
    },
    {
      "cell_type": "markdown",
      "metadata": {
        "id": "Sci4jVcwRUov",
        "colab_type": "text"
      },
      "source": [
        "The numpy file of some of the weights, with the header (\\x93NUMPY, 2 bytes version, 2 bytes header size, header) and with the values stored in little endian ([file format](https://numpy.org/neps/nep-0001-npy-format.html#format-specification-version-1-0) for numpy npy)"
      ]
    },
    {
      "cell_type": "code",
      "metadata": {
        "id": "jdUAp5NrRUox",
        "colab_type": "code",
        "outputId": "96db27f0-8488-4c7e-a858-6c576462ffb2",
        "colab": {}
      },
      "source": [
        "param_archive.read(\"model/pi_fc0/w:0.npy\")"
      ],
      "execution_count": 0,
      "outputs": [
        {
          "output_type": "execute_result",
          "data": {
            "text/plain": [
              "b'\\x93NUMPY\\x01\\x00v\\x00{\\'descr\\': \\'<f4\\', \\'fortran_order\\': False, \\'shape\\': (3, 64), }                                                         \\n\\xa7>\\x8b=\\n\\xbc\\xd3>M,#>\\'X\\xe8\\xbd\\x14a\\x18>\\xa4\\xe3\\xa7\\xbeK\\xcb\\x0c\\xbftLb>\\x97\\xb8\\x8c>@t\\x06\\xbe\\x97\\xb3e\\xbeC\\x82J\\xbdlI\\xf7\\xbc\\xdf\\xfeo\\xbe\\x97\\xec\\xbe\\xbdR\\x06\\xd8=a\\xa8\\xe9\\xbcFj\\xb1=\\xad\\x06\\x97\\xbb\\xf3B\\x1c\\xbd\\x85+\\x12<\\xaa\\xdc\\x92\\xbd\\xbb\\xde\\x97>\\xf9\\x0f\\x9b=y\\xfeW\\xbd\\x9f\\xbb\\x9c=\\xc7E\\x06>\\xfc\"R\\xbez\\xce\\x9a\\xbe\\xa1@E\\xbdf\\xf8\\x85=\\x16\\xa4 =b\\x1e\\n\\xbc\\xc7\\xd3\\x1d<7%\\x9f\\xbdc\\x9cc>\\x94a\\x19>\\xb0\\x8c\\x06>\\x97\\x81\\xcb>\\xfa\\x18\\xdd\\xbc\\xaf+\\xbd>\\x80\\x8ai>`\\x81U>\\xd4\\t\\x7f\\xbe#_\\xd6;Ak\\x1f\\xbe\\xa0\\xe7V\\xbd\\x11R\\x03>2\\xad~;\\xa8\\xec(>-\\x98O\\xbdV\\xc8h\\xbd\\xce\\xd8:>\\xa7\\xf8\\x04\\xbe\\xd2\\xde\\x97<\\x06\\xe3\\xae\\xbd\\xe27\\xbb=\\xc4\\x1f\\xf6=e\\xf6\\x06>\\xd8\\xbe\\x94=\\xb4W\\x9e\\xbdg\\xbfB\\xbe\\xa4I\\xfe\\xbdg\\xcf\\xd7<\\x9a&\\x03>\\x06w(\\xbe\\x9f\\xe3\\xe3\\xbel&\\x85=\\xb4\\xfe\\x00<2\\x1a<\\xbeK\\xd5\\xe1\\xbd\\xc5\\x99t=\\xd7\\xef5\\xbe\\xabB\\x9e\\xbe\\xea\\xe1\\x9d>Jk\\xac>n0\\xe1=\\xf4\\x05\\x8c\\xbd\\x84\\x87-\\xbd.\\x93\\xa1\\xbd\\x86\\xdcL>R\\xee4\\xbei\\x98\\x12>\\x87\\xab\\xa6;9m&>\\x11m\\xa3<]\\xc6\\xdc\\xbe\\x81d9>d\\xb5\\x1b>z$\\x8e\\xbeL\\x13\\x06\\xbe\\xa2\\x10\\x9e\\xbd\\x1b\\xdbE\\xbe\\x8d\\xa5\\x1e>\\xd8\\x01\\x88\\xbb\\x1b\\x12\\xe7=\\xa87\\x11\\xbc\\xcfeS>P\\xdeI>\\xf5E\\xbd=\\xf2\\x99\\x85>\\xca~\\xce=O0h<\\x9b\\xd3\\x1d>\\xe3\\xa5=>\\xb7\\xb1T\\xbc\\xdd>\\xe5=\\x1c\\xca\\xb3\\xbdF\\xea\\xa6\\xbd@\\xe7p=\\x80i\\x0f>\\xc5\\x91\\x91=\\xc6\\xfdj=\\x03e\\xec;V\\x9d\\xdd=\\x9a\\xdaY>\\xa6\\xad\\x97=\\x1aCi>\\x8b}\\x15>\\xec1%\\xbe\\xf6\\x94\\x83\\xbe\\xe0O\\xfc\\xbdz+q>\\xfc\\xf8\\x87=B\\xac\\x06\\xbb;\\xc5\\xf7\\xbd\\xe5\\xe8\\xa7\\xbe\\xbd\\\\\\xfe\\xbd\\xeb\\x8d\\x0b>]\\x13\\x80\\xbc\\xe2\\x9d\\x91\\xbc9(\\x1f\\xbeB\\xfd\\xc3>\\x0b\\xb4\\x1f\\xbe\\xf6\\xbf\\xb4\\xbd-U\\xca=>\\x15\\xc4=}\\xc4K>\\n\\'/>x:\\xf4\\xbd\\xfd\\\\\\x13\\xbe4\\xceZ=r\\xc9\\x83\\xbd(\\t\\xc6\\xbd\\x7fJ\\x8f\\xbcP|\\xaa=\\x95\\x11\\x93\\xbe\\x7f\\xb2$=X\\xa8\\x96\\xbd\\xb3\\x85e>&\\xa02\\xbe\\'\\xad\\xa6\\xbd\\x92aL\\xbd\\xc5\\xd6\\x82\\xbd\\xd9\\rV\\xbe\\xc6wA>\\x1f\\xc7\\x94>\\xe3\\xb9\\xcf>Fv\\xd0\\xbc\\x7f\\xcf\\xb7=\\xcd7G=\\xdcY`>\\xeae\\xea=\\x8d]\\xa8>\\xb8HG\\xbeE D=\\xd0R\\xdd=,<\\xf9\\xbb\\xab:\\xeb\\xbb\\x02ht\\xbe!\\xc3\\x89\\xbeX\\xfe\\xef\\xbc2\\xdc=\\xbe\\xa0\\xb6\\x1a\\xbe\\xe5\\x82\\xa0\\xbd;m\\x9a=\\x156\\xd6\\xbd\\x8a\\xceU>\\x9dr->*c\\x11>\\xadh\\xa5\\xbdc\\xdc*=F\\xa3\\xc0\\xbe\\xec\\xaan>7V\\x06>\\x90_\\xac>\\x16\\xabf>\\x96\\x04\\xf6\\xbb\\xfc\\xd4\\xc4>\\xf6:\\xbf\\xbd\\xaf\\x05\\xb9\\xbcd2\\x99\\xbc'"
            ]
          },
          "metadata": {
            "tags": []
          },
          "execution_count": 18
        }
      ]
    },
    {
      "cell_type": "code",
      "metadata": {
        "id": "u_3QS6iiRUoz",
        "colab_type": "code",
        "outputId": "f4e577a5-4b1c-408c-b360-41f6d7066b02",
        "colab": {}
      },
      "source": [
        "tmp_file = io.BytesIO(param_archive.read(\"model/pi_fc0/w:0.npy\"))\n",
        "\n",
        "np.load(tmp_file)"
      ],
      "execution_count": 0,
      "outputs": [
        {
          "output_type": "execute_result",
          "data": {
            "text/plain": [
              "array([[ 0.06799059,  0.413544  ,  0.15934868, -0.11344939,  0.14880782,\n",
              "        -0.32790864, -0.549977  ,  0.22099477,  0.2748458 , -0.13130283,\n",
              "        -0.2243179 , -0.04944063, -0.03018638, -0.2343707 , -0.0932247 ,\n",
              "         0.10548081, -0.02852267,  0.08662848, -0.00460895, -0.03814979,\n",
              "         0.00892151, -0.07170995,  0.29662117,  0.07571406, -0.05273292,\n",
              "         0.07652973,  0.13112555, -0.20521158, -0.30235654, -0.04815734,\n",
              "         0.06541519,  0.03921898, -0.0084301 ,  0.00963301, -0.0777077 ,\n",
              "         0.22227626,  0.1497863 ,  0.13139606,  0.39747307, -0.02698945,\n",
              "         0.3694739 ,  0.2280674 ,  0.20850134, -0.24906093,  0.0065421 ,\n",
              "        -0.15568258, -0.05246699,  0.12824275,  0.00388606,  0.16496527,\n",
              "        -0.05068224, -0.05683168,  0.18246767, -0.12985478,  0.01853887,\n",
              "        -0.08539395,  0.09141518,  0.12017778,  0.1317993 ,  0.07262963,\n",
              "        -0.07731572, -0.19018327, -0.1241639 ,  0.02634401],\n",
              "       [ 0.12807694, -0.16451654, -0.445096  ,  0.06501469,  0.00787323,\n",
              "        -0.18369368, -0.11027011,  0.05971696, -0.17767273, -0.3091024 ,\n",
              "         0.3083642 ,  0.33675605,  0.10995565, -0.06837073, -0.04236557,\n",
              "        -0.078894  ,  0.20005998, -0.17669037,  0.14315952,  0.00508637,\n",
              "         0.16252603,  0.01994947, -0.4312009 ,  0.18104745,  0.15205914,\n",
              "        -0.27762204, -0.13093299, -0.07718016, -0.19321863,  0.1549284 ,\n",
              "        -0.00415061,  0.1128275 , -0.00886337,  0.20644306,  0.19713712,\n",
              "         0.09241859,  0.26094013,  0.10082777,  0.01417167,  0.15412752,\n",
              "         0.18520312, -0.01298182,  0.11193631, -0.08778784, -0.08150153,\n",
              "         0.05881429,  0.14005089,  0.07107881,  0.05737092,  0.00721419,\n",
              "         0.10821025,  0.21274796,  0.07406168,  0.22779503,  0.14598672,\n",
              "        -0.16132325, -0.25699586, -0.12319922,  0.23551741,  0.06639287,\n",
              "        -0.00205495, -0.12098166, -0.32794872, -0.12420032],\n",
              "       [ 0.13628356, -0.01563423, -0.01777548, -0.15542687,  0.38279158,\n",
              "        -0.15596025, -0.08825676,  0.09879527,  0.09574364,  0.19899173,\n",
              "         0.17104736, -0.11925215, -0.14390941,  0.05341931, -0.06434907,\n",
              "        -0.09669715, -0.01749158,  0.08324492, -0.28724352,  0.04020929,\n",
              "        -0.07356328,  0.22414283, -0.17443904, -0.08138495, -0.04989774,\n",
              "        -0.0638862 , -0.2090372 ,  0.18893346,  0.29058167,  0.40571508,\n",
              "        -0.02544702,  0.08975124,  0.0486372 ,  0.21909279,  0.1144522 ,\n",
              "         0.32883874, -0.19461334,  0.04788234,  0.10806811, -0.00760605,\n",
              "        -0.00717862, -0.23867801, -0.26906684, -0.02929609, -0.18541029,\n",
              "        -0.15108728, -0.07837466,  0.07540365, -0.10459534,  0.2087957 ,\n",
              "         0.16938253,  0.14197984, -0.08076606,  0.04171408, -0.37624568,\n",
              "         0.23307389,  0.13118826,  0.33666658,  0.22526202, -0.00750787,\n",
              "         0.38443744, -0.09337418, -0.02258572, -0.01870079]],\n",
              "      dtype=float32)"
            ]
          },
          "metadata": {
            "tags": []
          },
          "execution_count": 19
        }
      ]
    },
    {
      "cell_type": "markdown",
      "metadata": {
        "id": "cPKkkTvjRUo2",
        "colab_type": "text"
      },
      "source": [
        "## Exporting saved models\n",
        "\n",
        "And finally some futher reading for those who want to export to tensorflowJS or Java.\n",
        "\n",
        "https://stable-baselines.readthedocs.io/en/master/guide/export.html"
      ]
    },
    {
      "cell_type": "code",
      "metadata": {
        "id": "nIDRBP0zRUo2",
        "colab_type": "code",
        "colab": {}
      },
      "source": [
        ""
      ],
      "execution_count": 0,
      "outputs": []
    }
  ]
}